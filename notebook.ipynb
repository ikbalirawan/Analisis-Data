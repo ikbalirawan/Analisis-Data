{
  "cells": [
    {
      "cell_type": "markdown",
      "metadata": {
        "id": "H9wADwK78DCz"
      },
      "source": [
        "# Proyek Analisis Data: Bike Sharing\n",
        "- **Nama:** Muhamad Ikbal Irawan\n",
        "- **Email:** iqbalirawan238@gmail.com\n",
        "- **ID Dicoding:** ikbal05"
      ]
    },
    {
      "cell_type": "markdown",
      "metadata": {
        "id": "eE0raob58DC0"
      },
      "source": [
        "## Menentukan Pertanyaan Bisnis"
      ]
    },
    {
      "cell_type": "markdown",
      "metadata": {
        "id": "GmQeQ5YF8DC0"
      },
      "source": [
        "1. Bagaimana pengaruh cuaca terhadap jumlah peminjaman sepeda?\n",
        "Analisis:\n",
        "- Gunakan data suhu (temp), kelembaban (hum), dan kecepatan angin (windspeed) terhadap jumlah sepeda yang dipinjam (cnt).\n",
        "- Lihat apakah ada pola tertentu, misalnya apakah peminjaman menurun saat kelembaban tinggi atau angin kencang.\n",
        "- Ini bisa membantu perencanaan operasional dalam menyesuaikan jumlah sepeda yang tersedia berdasarkan prediksi cuaca.\n",
        "\n",
        "2. Kapan waktu paling sibuk dalam sehari untuk penyewaan sepeda?\n",
        "Analisis:\n",
        "- Gunakan data per jam (hr) untuk melihat tren penggunaan sepeda sepanjang hari.\n",
        "- Identifikasi jam-jam sibuk dan bandingkan antara hari kerja (workingday) dan akhir pekan.\n",
        "- Bisa digunakan untuk menentukan strategi pemeliharaan sepeda atau promosi pada jam sepi."
      ]
    },
    {
      "cell_type": "markdown",
      "metadata": {
        "id": "H-z4QGlO8DC1"
      },
      "source": [
        "## Import Semua Packages/Library yang Digunakan"
      ]
    },
    {
      "cell_type": "code",
      "execution_count": 9,
      "metadata": {
        "id": "FVYwaObI8DC1"
      },
      "outputs": [],
      "source": [
        "import streamlit as st\n",
        "import seaborn as sns\n",
        "import pandas as pd\n",
        "import matplotlib.pyplot as plt"
      ]
    },
    {
      "cell_type": "markdown",
      "metadata": {
        "id": "h_Sh51Xy8DC1"
      },
      "source": [
        "## Data Wrangling"
      ]
    },
    {
      "cell_type": "markdown",
      "metadata": {},
      "source": [
        "## Load Data"
      ]
    },
    {
      "cell_type": "code",
      "execution_count": 3,
      "metadata": {},
      "outputs": [],
      "source": [
        "day_df = pd.read_csv(\"https://raw.githubusercontent.com/ikbalirawan/Analisis-Data/main/data/day.csv\")\n",
        "hour_df = pd.read_csv(\"https://raw.githubusercontent.com/ikbalirawan/Analisis-Data/main/data/hour.csv\")"
      ]
    },
    {
      "cell_type": "markdown",
      "metadata": {
        "id": "sXU2GBYu8DC1"
      },
      "source": [
        "### Gathering Data"
      ]
    },
    {
      "cell_type": "code",
      "execution_count": 4,
      "metadata": {
        "id": "zjCBk1BI8DC1"
      },
      "outputs": [
        {
          "name": "stdout",
          "output_type": "stream",
          "text": [
            "Preview Data Harian:\n",
            "   instant      dteday  season  yr  mnth  holiday  weekday  workingday  \\\n",
            "0        1  2011-01-01       1   0     1        0        6           0   \n",
            "1        2  2011-01-02       1   0     1        0        0           0   \n",
            "2        3  2011-01-03       1   0     1        0        1           1   \n",
            "3        4  2011-01-04       1   0     1        0        2           1   \n",
            "4        5  2011-01-05       1   0     1        0        3           1   \n",
            "\n",
            "   weathersit      temp     atemp       hum  windspeed  casual  registered  \\\n",
            "0           2  0.344167  0.363625  0.805833   0.160446     331         654   \n",
            "1           2  0.363478  0.353739  0.696087   0.248539     131         670   \n",
            "2           1  0.196364  0.189405  0.437273   0.248309     120        1229   \n",
            "3           1  0.200000  0.212122  0.590435   0.160296     108        1454   \n",
            "4           1  0.226957  0.229270  0.436957   0.186900      82        1518   \n",
            "\n",
            "    cnt  \n",
            "0   985  \n",
            "1   801  \n",
            "2  1349  \n",
            "3  1562  \n",
            "4  1600  \n",
            "\n",
            "Preview Data Per Jam:\n",
            "   instant      dteday  season  yr  mnth  hr  holiday  weekday  workingday  \\\n",
            "0        1  2011-01-01       1   0     1   0        0        6           0   \n",
            "1        2  2011-01-01       1   0     1   1        0        6           0   \n",
            "2        3  2011-01-01       1   0     1   2        0        6           0   \n",
            "3        4  2011-01-01       1   0     1   3        0        6           0   \n",
            "4        5  2011-01-01       1   0     1   4        0        6           0   \n",
            "\n",
            "   weathersit  temp   atemp   hum  windspeed  casual  registered  cnt  \n",
            "0           1  0.24  0.2879  0.81        0.0       3          13   16  \n",
            "1           1  0.22  0.2727  0.80        0.0       8          32   40  \n",
            "2           1  0.22  0.2727  0.80        0.0       5          27   32  \n",
            "3           1  0.24  0.2879  0.75        0.0       3          10   13  \n",
            "4           1  0.24  0.2879  0.75        0.0       0           1    1  \n"
          ]
        }
      ],
      "source": [
        "print(\"Preview Data Harian:\")\n",
        "print(day_df.head())\n",
        "print(\"\\nPreview Data Per Jam:\")\n",
        "print(hour_df.head())"
      ]
    },
    {
      "cell_type": "markdown",
      "metadata": {
        "id": "MMi6xGaDkbCi"
      },
      "source": [
        "**Insight:**\n",
        "- Data harian mencakup jumlah total peminjaman sepeda per hari.\n",
        "- Terdapat variabel cuaca, musim, hari libur, dan jumlah pengguna."
      ]
    },
    {
      "cell_type": "markdown",
      "metadata": {
        "id": "FHSiqaZp8DC1"
      },
      "source": [
        "### Assessing Data"
      ]
    },
    {
      "cell_type": "code",
      "execution_count": 5,
      "metadata": {
        "id": "ax-3tEjc9Cj1"
      },
      "outputs": [
        {
          "name": "stdout",
          "output_type": "stream",
          "text": [
            "Informasi Data Harian:\n",
            "<class 'pandas.core.frame.DataFrame'>\n",
            "RangeIndex: 731 entries, 0 to 730\n",
            "Data columns (total 16 columns):\n",
            " #   Column      Non-Null Count  Dtype  \n",
            "---  ------      --------------  -----  \n",
            " 0   instant     731 non-null    int64  \n",
            " 1   dteday      731 non-null    object \n",
            " 2   season      731 non-null    int64  \n",
            " 3   yr          731 non-null    int64  \n",
            " 4   mnth        731 non-null    int64  \n",
            " 5   holiday     731 non-null    int64  \n",
            " 6   weekday     731 non-null    int64  \n",
            " 7   workingday  731 non-null    int64  \n",
            " 8   weathersit  731 non-null    int64  \n",
            " 9   temp        731 non-null    float64\n",
            " 10  atemp       731 non-null    float64\n",
            " 11  hum         731 non-null    float64\n",
            " 12  windspeed   731 non-null    float64\n",
            " 13  casual      731 non-null    int64  \n",
            " 14  registered  731 non-null    int64  \n",
            " 15  cnt         731 non-null    int64  \n",
            "dtypes: float64(4), int64(11), object(1)\n",
            "memory usage: 91.5+ KB\n",
            "None\n",
            "\n",
            "Informasi Data Per Jam:\n",
            "<class 'pandas.core.frame.DataFrame'>\n",
            "RangeIndex: 17379 entries, 0 to 17378\n",
            "Data columns (total 17 columns):\n",
            " #   Column      Non-Null Count  Dtype  \n",
            "---  ------      --------------  -----  \n",
            " 0   instant     17379 non-null  int64  \n",
            " 1   dteday      17379 non-null  object \n",
            " 2   season      17379 non-null  int64  \n",
            " 3   yr          17379 non-null  int64  \n",
            " 4   mnth        17379 non-null  int64  \n",
            " 5   hr          17379 non-null  int64  \n",
            " 6   holiday     17379 non-null  int64  \n",
            " 7   weekday     17379 non-null  int64  \n",
            " 8   workingday  17379 non-null  int64  \n",
            " 9   weathersit  17379 non-null  int64  \n",
            " 10  temp        17379 non-null  float64\n",
            " 11  atemp       17379 non-null  float64\n",
            " 12  hum         17379 non-null  float64\n",
            " 13  windspeed   17379 non-null  float64\n",
            " 14  casual      17379 non-null  int64  \n",
            " 15  registered  17379 non-null  int64  \n",
            " 16  cnt         17379 non-null  int64  \n",
            "dtypes: float64(4), int64(12), object(1)\n",
            "memory usage: 2.3+ MB\n",
            "None\n"
          ]
        }
      ],
      "source": [
        "print(\"Informasi Data Harian:\")\n",
        "print(day_df.info())\n",
        "print(\"\\nInformasi Data Per Jam:\")\n",
        "print(hour_df.info())"
      ]
    },
    {
      "cell_type": "markdown",
      "metadata": {
        "id": "7dtxhAPrkhPL"
      },
      "source": [
        "**Insight:**\n",
        "- Tidak ada nilai yang hilang dalam dataset.\n",
        "- Beberapa variabel seperti 'temp' dan 'atemp' memiliki korelasi tinggi, sehingga salah satu bisa diabaikan."
      ]
    },
    {
      "cell_type": "markdown",
      "metadata": {
        "id": "EhN5R4hr8DC1"
      },
      "source": [
        "### Cleaning Data"
      ]
    },
    {
      "cell_type": "code",
      "execution_count": 6,
      "metadata": {
        "id": "jVnYpprE9Evz"
      },
      "outputs": [
        {
          "name": "stdout",
          "output_type": "stream",
          "text": [
            "Mengecek Nilai Hilang:\n",
            "instant       0\n",
            "dteday        0\n",
            "season        0\n",
            "yr            0\n",
            "mnth          0\n",
            "holiday       0\n",
            "weekday       0\n",
            "workingday    0\n",
            "weathersit    0\n",
            "temp          0\n",
            "atemp         0\n",
            "hum           0\n",
            "windspeed     0\n",
            "casual        0\n",
            "registered    0\n",
            "cnt           0\n",
            "dtype: int64\n",
            "instant       0\n",
            "dteday        0\n",
            "season        0\n",
            "yr            0\n",
            "mnth          0\n",
            "hr            0\n",
            "holiday       0\n",
            "weekday       0\n",
            "workingday    0\n",
            "weathersit    0\n",
            "temp          0\n",
            "atemp         0\n",
            "hum           0\n",
            "windspeed     0\n",
            "casual        0\n",
            "registered    0\n",
            "cnt           0\n",
            "dtype: int64\n"
          ]
        }
      ],
      "source": [
        "print(\"Mengecek Nilai Hilang:\")\n",
        "print(day_df.isnull().sum())\n",
        "print(hour_df.isnull().sum())"
      ]
    },
    {
      "cell_type": "markdown",
      "metadata": {
        "id": "Q_5ejIqckiSP"
      },
      "source": [
        "**Insight:**\n",
        "- Dataset bersih, tidak ada nilai kosong atau null.\n",
        "- Tidak diperlukan imputasi atau penghapusan data."
      ]
    },
    {
      "cell_type": "markdown",
      "metadata": {
        "id": "gp-Y6wU38DC1"
      },
      "source": [
        "## Exploratory Data Analysis (EDA)"
      ]
    },
    {
      "cell_type": "markdown",
      "metadata": {
        "id": "MW7WF2kr8DC1"
      },
      "source": [
        "### Explore ..."
      ]
    },
    {
      "cell_type": "code",
      "execution_count": 11,
      "metadata": {
        "id": "e9CQCZjk8DC2"
      },
      "outputs": [
        {
          "name": "stderr",
          "output_type": "stream",
          "text": [
            "C:\\Users\\user\\AppData\\Local\\Temp\\ipykernel_7332\\2983551383.py:6: UserWarning: FigureCanvasAgg is non-interactive, and thus cannot be shown\n",
            "  plt.show()\n"
          ]
        }
      ],
      "source": [
        "plt.figure(figsize=(10, 5))\n",
        "sns.histplot(day_df['cnt'], bins=30, kde=True)\n",
        "plt.title(\"Distribusi Total Peminjaman Sepeda Harian\")\n",
        "plt.xlabel(\"Jumlah Peminjaman\")\n",
        "plt.ylabel(\"Frekuensi\")\n",
        "plt.show()"
      ]
    },
    {
      "cell_type": "markdown",
      "metadata": {
        "id": "th_Lzl2Fkj9O"
      },
      "source": [
        "**Insight:**\n",
        "- Distribusi jumlah peminjaman menunjukkan pola tertentu.\n",
        "- Bisa digunakan untuk mengidentifikasi apakah ada hari dengan jumlah peminjaman ekstrem."
      ]
    },
    {
      "cell_type": "markdown",
      "metadata": {
        "id": "zsyZjqak8DC2"
      },
      "source": [
        "## Visualization & Explanatory Analysis"
      ]
    },
    {
      "cell_type": "markdown",
      "metadata": {
        "id": "HZxOiQ6n8DC2"
      },
      "source": [
        "### Pertanyaan 1:"
      ]
    },
    {
      "cell_type": "code",
      "execution_count": 12,
      "metadata": {
        "id": "1swJUdAD8DC2"
      },
      "outputs": [
        {
          "name": "stderr",
          "output_type": "stream",
          "text": [
            "C:\\Users\\user\\AppData\\Local\\Temp\\ipykernel_7332\\1465375246.py:6: UserWarning: FigureCanvasAgg is non-interactive, and thus cannot be shown\n",
            "  plt.show()\n"
          ]
        }
      ],
      "source": [
        "plt.figure(figsize=(10, 5))\n",
        "sns.boxplot(data=day_df, x='weathersit', y='cnt')\n",
        "plt.title(\"Pengaruh Cuaca terhadap Jumlah Peminjaman Sepeda\")\n",
        "plt.xlabel(\"Kategori Cuaca\")\n",
        "plt.ylabel(\"Jumlah Peminjaman\")\n",
        "plt.show()"
      ]
    },
    {
      "cell_type": "markdown",
      "metadata": {
        "id": "DgHI7CiU8DC2"
      },
      "source": [
        "### Pertanyaan 2:"
      ]
    },
    {
      "cell_type": "code",
      "execution_count": 13,
      "metadata": {
        "id": "Go0lCsvO8DC2"
      },
      "outputs": [
        {
          "name": "stderr",
          "output_type": "stream",
          "text": [
            "C:\\Users\\user\\AppData\\Local\\Temp\\ipykernel_7332\\3105709493.py:2: FutureWarning: \n",
            "\n",
            "The `ci` parameter is deprecated. Use `errorbar=None` for the same effect.\n",
            "\n",
            "  sns.lineplot(data=hour_df, x='hr', y='cnt', hue='workingday', ci=None)\n",
            "C:\\Users\\user\\AppData\\Local\\Temp\\ipykernel_7332\\3105709493.py:6: UserWarning: FigureCanvasAgg is non-interactive, and thus cannot be shown\n",
            "  plt.show()\n"
          ]
        }
      ],
      "source": [
        "plt.figure(figsize=(12, 6))\n",
        "sns.lineplot(data=hour_df, x='hr', y='cnt', hue='workingday', ci=None)\n",
        "plt.title(\"Tren Penyewaan Sepeda Berdasarkan Jam\")\n",
        "plt.xlabel(\"Jam\")\n",
        "plt.ylabel(\"Jumlah Penyewaan\")\n",
        "plt.show()"
      ]
    },
    {
      "cell_type": "markdown",
      "metadata": {
        "id": "_0-36BDLklRg"
      },
      "source": [
        "**Insight:**\n",
        "- Tren menunjukkan lonjakan pada jam kerja (pagi dan sore).\n",
        "- Hari kerja memiliki pola peminjaman yang lebih teratur dibandingkan akhir pekan."
      ]
    },
    {
      "cell_type": "markdown",
      "metadata": {
        "id": "9y4VUsmcYNZ5"
      },
      "source": [
        "## Analisis Lanjutan (Opsional)"
      ]
    },
    {
      "cell_type": "code",
      "execution_count": null,
      "metadata": {
        "id": "iWhnzsJGYUCO"
      },
      "outputs": [],
      "source": []
    },
    {
      "cell_type": "markdown",
      "metadata": {
        "id": "_WeHlCeX8DC2"
      },
      "source": [
        "## Conclusion"
      ]
    },
    {
      "cell_type": "markdown",
      "metadata": {
        "id": "ZTcyR48Y8DC2"
      },
      "source": [
        "- Cuaca memiliki dampak signifikan terhadap jumlah peminjaman sepeda. Pada cuaca cerah, jumlah peminjaman lebih tinggi dibandingkan saat hujan atau salju. Strategi bisnis dapat difokuskan pada promosi saat cuaca cerah dan penyediaan fasilitas tambahan saat cuaca buruk.\n",
        "- Jam sibuk peminjaman sepeda terjadi pada pukul 07:00 - 09:00 dan 17:00 - 19:00, yang bertepatan dengan jam berangkat dan pulang kerja. Untuk meningkatkan layanan, bisa disediakan lebih banyak sepeda pada jam-jam tersebut atau menerapkan tarif dinamis berdasarkan permintaan."
      ]
    }
  ],
  "metadata": {
    "colab": {
      "provenance": []
    },
    "kernelspec": {
      "display_name": "Python 3",
      "language": "python",
      "name": "python3"
    },
    "language_info": {
      "codemirror_mode": {
        "name": "ipython",
        "version": 3
      },
      "file_extension": ".py",
      "mimetype": "text/x-python",
      "name": "python",
      "nbconvert_exporter": "python",
      "pygments_lexer": "ipython3",
      "version": "3.13.1"
    },
    "orig_nbformat": 4,
    "vscode": {
      "interpreter": {
        "hash": "972b3bf27e332e87b5379f2791f6ef9dfc79c71018c370b0d7423235e20fe4d7"
      }
    }
  },
  "nbformat": 4,
  "nbformat_minor": 0
}
